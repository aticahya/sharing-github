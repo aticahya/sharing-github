{
 "cells": [
  {
   "cell_type": "markdown",
   "id": "95734459-6636-4c64-8c2a-6bebd03aa92a",
   "metadata": {},
   "source": [
    "## Import Libraries"
   ]
  },
  {
   "cell_type": "code",
   "execution_count": 1,
   "id": "fd04af45-241c-4b87-b27b-6671ff62b1d8",
   "metadata": {},
   "outputs": [],
   "source": [
    "import pandas as pd\n",
    "import numpy as np\n",
    "from sklearn import preprocessing\n",
    "import matplotlib.pyplot as plt \n",
    "plt.rc(\"font\", size=14)\n",
    "from sklearn.linear_model import LogisticRegression\n",
    "from sklearn.model_selection import train_test_split\n",
    "import seaborn as sns\n",
    "sns.set(style=\"white\")\n",
    "sns.set(style=\"whitegrid\", color_codes=True)"
   ]
  },
  {
   "cell_type": "markdown",
   "id": "3e94735a-a814-4f2c-809a-924cab868aac",
   "metadata": {},
   "source": [
    "## Data Exploration"
   ]
  },
  {
   "cell_type": "markdown",
   "id": "215aaa4a-49a9-4823-92ff-2797c21e7a4d",
   "metadata": {
    "tags": []
   },
   "source": [
    "The data provided contains checkout data and relevant user information for an e-commerce platform. The goal is to understand:\n",
    "- What factors contribute to users making a purchase? Provide at least the top 2 contributing factors and calculate their potential impact\n",
    "- What factors contribute to users generating higher basket amounts? Provide at least the top 2 contributing factors and calculate their potential impact\n",
    "\n",
    "This dataset includes 229,847 records and 38 fields.\n",
    "\n",
    "I added 4 variables and modified 1 variable, separately in BigQuery. Additional/modification variables:\n",
    "1. user_tenure: modified from account_created_at, day difference between the account was created to today\n",
    "2. checkout_month: month at checkout page\n",
    "3. checkout_day: day at checkout page\n",
    "4. checkout_date: date at checkout page\n",
    "5. checkout_week: week at checkout page\n",
    "6. lag_day_from_previous_purchase: day difference from previous purchase\n",
    "7. lag_day_from_previous_remitted: day difference from previous remitted"
   ]
  },
  {
   "cell_type": "code",
   "execution_count": 55,
   "id": "88486651-24c2-498d-8f78-637e8a31df4d",
   "metadata": {
    "tags": []
   },
   "outputs": [
    {
     "data": {
      "text/html": [
       "<div>\n",
       "<style scoped>\n",
       "    .dataframe tbody tr th:only-of-type {\n",
       "        vertical-align: middle;\n",
       "    }\n",
       "\n",
       "    .dataframe tbody tr th {\n",
       "        vertical-align: top;\n",
       "    }\n",
       "\n",
       "    .dataframe thead th {\n",
       "        text-align: right;\n",
       "    }\n",
       "</style>\n",
       "<table border=\"1\" class=\"dataframe\">\n",
       "  <thead>\n",
       "    <tr style=\"text-align: right;\">\n",
       "      <th></th>\n",
       "      <th>user_id</th>\n",
       "      <th>marketing_tier</th>\n",
       "      <th>province</th>\n",
       "      <th>user_type</th>\n",
       "      <th>user_group</th>\n",
       "      <th>account_type</th>\n",
       "      <th>user_tenure</th>\n",
       "      <th>referrer_type</th>\n",
       "      <th>user_register_from</th>\n",
       "      <th>basket_amount</th>\n",
       "      <th>...</th>\n",
       "      <th>Is_new</th>\n",
       "      <th>Num_product_types</th>\n",
       "      <th>Num_trx</th>\n",
       "      <th>Num_voucher_errors</th>\n",
       "      <th>Num_trx_voucher</th>\n",
       "      <th>Num_visit_promo_page</th>\n",
       "      <th>Average_session_length</th>\n",
       "      <th>Sessions</th>\n",
       "      <th>Gmv</th>\n",
       "      <th>Aov</th>\n",
       "    </tr>\n",
       "  </thead>\n",
       "  <tbody>\n",
       "    <tr>\n",
       "      <th>0</th>\n",
       "      <td>110</td>\n",
       "      <td>tier_1</td>\n",
       "      <td>1</td>\n",
       "      <td>3</td>\n",
       "      <td>0</td>\n",
       "      <td>0</td>\n",
       "      <td>199</td>\n",
       "      <td>0</td>\n",
       "      <td>2</td>\n",
       "      <td>0.000021</td>\n",
       "      <td>...</td>\n",
       "      <td>0</td>\n",
       "      <td>0.129032</td>\n",
       "      <td>0.000027</td>\n",
       "      <td>0</td>\n",
       "      <td>0.002309</td>\n",
       "      <td>0.013514</td>\n",
       "      <td>0.040124</td>\n",
       "      <td>0.002350</td>\n",
       "      <td>0.033274</td>\n",
       "      <td>0.155961</td>\n",
       "    </tr>\n",
       "    <tr>\n",
       "      <th>1</th>\n",
       "      <td>4148</td>\n",
       "      <td>tier_3</td>\n",
       "      <td>9</td>\n",
       "      <td>4</td>\n",
       "      <td>0</td>\n",
       "      <td>0</td>\n",
       "      <td>196</td>\n",
       "      <td>0</td>\n",
       "      <td>0</td>\n",
       "      <td>0.000032</td>\n",
       "      <td>...</td>\n",
       "      <td>1</td>\n",
       "      <td>0.387097</td>\n",
       "      <td>0.000074</td>\n",
       "      <td>0</td>\n",
       "      <td>0.011547</td>\n",
       "      <td>0.020270</td>\n",
       "      <td>0.008720</td>\n",
       "      <td>0.010484</td>\n",
       "      <td>0.033349</td>\n",
       "      <td>0.156039</td>\n",
       "    </tr>\n",
       "    <tr>\n",
       "      <th>2</th>\n",
       "      <td>27610</td>\n",
       "      <td>tier_2</td>\n",
       "      <td>1</td>\n",
       "      <td>2</td>\n",
       "      <td>0</td>\n",
       "      <td>0</td>\n",
       "      <td>186</td>\n",
       "      <td>0</td>\n",
       "      <td>0</td>\n",
       "      <td>0.000017</td>\n",
       "      <td>...</td>\n",
       "      <td>0</td>\n",
       "      <td>0.161290</td>\n",
       "      <td>0.000047</td>\n",
       "      <td>0</td>\n",
       "      <td>0.030023</td>\n",
       "      <td>0.006757</td>\n",
       "      <td>0.007715</td>\n",
       "      <td>0.006508</td>\n",
       "      <td>0.033291</td>\n",
       "      <td>0.155926</td>\n",
       "    </tr>\n",
       "    <tr>\n",
       "      <th>3</th>\n",
       "      <td>50037</td>\n",
       "      <td>tier_3</td>\n",
       "      <td>1</td>\n",
       "      <td>3</td>\n",
       "      <td>0</td>\n",
       "      <td>0</td>\n",
       "      <td>181</td>\n",
       "      <td>0</td>\n",
       "      <td>1</td>\n",
       "      <td>0.000024</td>\n",
       "      <td>...</td>\n",
       "      <td>1</td>\n",
       "      <td>0.193548</td>\n",
       "      <td>0.000043</td>\n",
       "      <td>0</td>\n",
       "      <td>0.000000</td>\n",
       "      <td>0.000000</td>\n",
       "      <td>0.011174</td>\n",
       "      <td>0.007050</td>\n",
       "      <td>0.033254</td>\n",
       "      <td>0.155703</td>\n",
       "    </tr>\n",
       "    <tr>\n",
       "      <th>4</th>\n",
       "      <td>62283</td>\n",
       "      <td>tier_2</td>\n",
       "      <td>0</td>\n",
       "      <td>0</td>\n",
       "      <td>0</td>\n",
       "      <td>0</td>\n",
       "      <td>177</td>\n",
       "      <td>0</td>\n",
       "      <td>0</td>\n",
       "      <td>0.000070</td>\n",
       "      <td>...</td>\n",
       "      <td>0</td>\n",
       "      <td>0.258065</td>\n",
       "      <td>0.000497</td>\n",
       "      <td>1</td>\n",
       "      <td>0.055427</td>\n",
       "      <td>0.000000</td>\n",
       "      <td>0.002376</td>\n",
       "      <td>0.038322</td>\n",
       "      <td>0.033385</td>\n",
       "      <td>0.155703</td>\n",
       "    </tr>\n",
       "  </tbody>\n",
       "</table>\n",
       "<p>5 rows × 38 columns</p>\n",
       "</div>"
      ],
      "text/plain": [
       "   user_id marketing_tier  province  user_type  user_group  account_type  \\\n",
       "0      110         tier_1         1          3           0             0   \n",
       "1     4148         tier_3         9          4           0             0   \n",
       "2    27610         tier_2         1          2           0             0   \n",
       "3    50037         tier_3         1          3           0             0   \n",
       "4    62283         tier_2         0          0           0             0   \n",
       "\n",
       "   user_tenure  referrer_type  user_register_from  basket_amount  ...  Is_new  \\\n",
       "0          199              0                   2       0.000021  ...       0   \n",
       "1          196              0                   0       0.000032  ...       1   \n",
       "2          186              0                   0       0.000017  ...       0   \n",
       "3          181              0                   1       0.000024  ...       1   \n",
       "4          177              0                   0       0.000070  ...       0   \n",
       "\n",
       "   Num_product_types   Num_trx Num_voucher_errors Num_trx_voucher  \\\n",
       "0           0.129032  0.000027                  0        0.002309   \n",
       "1           0.387097  0.000074                  0        0.011547   \n",
       "2           0.161290  0.000047                  0        0.030023   \n",
       "3           0.193548  0.000043                  0        0.000000   \n",
       "4           0.258065  0.000497                  1        0.055427   \n",
       "\n",
       "  Num_visit_promo_page  Average_session_length  Sessions       Gmv       Aov  \n",
       "0             0.013514                0.040124  0.002350  0.033274  0.155961  \n",
       "1             0.020270                0.008720  0.010484  0.033349  0.156039  \n",
       "2             0.006757                0.007715  0.006508  0.033291  0.155926  \n",
       "3             0.000000                0.011174  0.007050  0.033254  0.155703  \n",
       "4             0.000000                0.002376  0.038322  0.033385  0.155703  \n",
       "\n",
       "[5 rows x 38 columns]"
      ]
     },
     "execution_count": 55,
     "metadata": {},
     "output_type": "execute_result"
    }
   ],
   "source": [
    "#import data\n",
    "data = pd.read_csv(\"insight-test-2.csv\")\n",
    "data.head()"
   ]
  },
  {
   "cell_type": "code",
   "execution_count": 52,
   "id": "28908673-295d-405e-92cf-a9bc64443710",
   "metadata": {},
   "outputs": [
    {
     "data": {
      "text/plain": [
       "(229847, 38)"
      ]
     },
     "execution_count": 52,
     "metadata": {},
     "output_type": "execute_result"
    }
   ],
   "source": [
    "data.shape"
   ]
  },
  {
   "cell_type": "code",
   "execution_count": 282,
   "id": "f303eb80-cdb4-4d26-8017-5b996ef0c31d",
   "metadata": {},
   "outputs": [
    {
     "data": {
      "text/html": [
       "<div>\n",
       "<style scoped>\n",
       "    .dataframe tbody tr th:only-of-type {\n",
       "        vertical-align: middle;\n",
       "    }\n",
       "\n",
       "    .dataframe tbody tr th {\n",
       "        vertical-align: top;\n",
       "    }\n",
       "\n",
       "    .dataframe thead th {\n",
       "        text-align: right;\n",
       "    }\n",
       "</style>\n",
       "<table border=\"1\" class=\"dataframe\">\n",
       "  <thead>\n",
       "    <tr style=\"text-align: right;\">\n",
       "      <th></th>\n",
       "      <th>user_id</th>\n",
       "      <th>province</th>\n",
       "      <th>user_type</th>\n",
       "      <th>user_group</th>\n",
       "      <th>account_type</th>\n",
       "      <th>user_tenure</th>\n",
       "      <th>referrer_type</th>\n",
       "      <th>user_register_from</th>\n",
       "      <th>basket_amount</th>\n",
       "      <th>is_paid</th>\n",
       "      <th>...</th>\n",
       "      <th>Is_new</th>\n",
       "      <th>Num_product_types</th>\n",
       "      <th>Num_trx</th>\n",
       "      <th>Num_voucher_errors</th>\n",
       "      <th>Num_trx_voucher</th>\n",
       "      <th>Num_visit_promo_page</th>\n",
       "      <th>Average_session_length</th>\n",
       "      <th>Sessions</th>\n",
       "      <th>Gmv</th>\n",
       "      <th>Aov</th>\n",
       "    </tr>\n",
       "  </thead>\n",
       "  <tbody>\n",
       "    <tr>\n",
       "      <th>count</th>\n",
       "      <td>2.298470e+05</td>\n",
       "      <td>229847.000000</td>\n",
       "      <td>229847.000000</td>\n",
       "      <td>229847.000000</td>\n",
       "      <td>229847.000000</td>\n",
       "      <td>229847.000000</td>\n",
       "      <td>229847.000000</td>\n",
       "      <td>229847.000000</td>\n",
       "      <td>229847.000000</td>\n",
       "      <td>229847.000000</td>\n",
       "      <td>...</td>\n",
       "      <td>229847.000000</td>\n",
       "      <td>229847.000000</td>\n",
       "      <td>229847.000000</td>\n",
       "      <td>229847.000000</td>\n",
       "      <td>229847.000000</td>\n",
       "      <td>229847.000000</td>\n",
       "      <td>229847.000000</td>\n",
       "      <td>229847.000000</td>\n",
       "      <td>229847.000000</td>\n",
       "      <td>229847.000000</td>\n",
       "    </tr>\n",
       "    <tr>\n",
       "      <th>mean</th>\n",
       "      <td>3.689137e+08</td>\n",
       "      <td>3.118096</td>\n",
       "      <td>0.695036</td>\n",
       "      <td>0.640617</td>\n",
       "      <td>0.003502</td>\n",
       "      <td>87.451113</td>\n",
       "      <td>1.128642</td>\n",
       "      <td>0.421319</td>\n",
       "      <td>0.000088</td>\n",
       "      <td>0.961653</td>\n",
       "      <td>...</td>\n",
       "      <td>0.129904</td>\n",
       "      <td>0.122215</td>\n",
       "      <td>0.000297</td>\n",
       "      <td>0.542835</td>\n",
       "      <td>0.006131</td>\n",
       "      <td>0.013168</td>\n",
       "      <td>0.004542</td>\n",
       "      <td>0.033127</td>\n",
       "      <td>0.033799</td>\n",
       "      <td>0.156813</td>\n",
       "    </tr>\n",
       "    <tr>\n",
       "      <th>std</th>\n",
       "      <td>2.143305e+08</td>\n",
       "      <td>3.613339</td>\n",
       "      <td>1.677578</td>\n",
       "      <td>0.479821</td>\n",
       "      <td>0.077322</td>\n",
       "      <td>11.537641</td>\n",
       "      <td>1.072323</td>\n",
       "      <td>0.683956</td>\n",
       "      <td>0.002982</td>\n",
       "      <td>0.192034</td>\n",
       "      <td>...</td>\n",
       "      <td>0.336198</td>\n",
       "      <td>0.126469</td>\n",
       "      <td>0.002272</td>\n",
       "      <td>3.111895</td>\n",
       "      <td>0.016770</td>\n",
       "      <td>0.031455</td>\n",
       "      <td>0.013106</td>\n",
       "      <td>0.047460</td>\n",
       "      <td>0.006509</td>\n",
       "      <td>0.011334</td>\n",
       "    </tr>\n",
       "    <tr>\n",
       "      <th>min</th>\n",
       "      <td>1.100000e+02</td>\n",
       "      <td>0.000000</td>\n",
       "      <td>0.000000</td>\n",
       "      <td>0.000000</td>\n",
       "      <td>0.000000</td>\n",
       "      <td>74.000000</td>\n",
       "      <td>0.000000</td>\n",
       "      <td>0.000000</td>\n",
       "      <td>0.000000</td>\n",
       "      <td>0.000000</td>\n",
       "      <td>...</td>\n",
       "      <td>0.000000</td>\n",
       "      <td>0.000000</td>\n",
       "      <td>0.000000</td>\n",
       "      <td>0.000000</td>\n",
       "      <td>0.000000</td>\n",
       "      <td>0.000000</td>\n",
       "      <td>0.000000</td>\n",
       "      <td>0.000000</td>\n",
       "      <td>0.000000</td>\n",
       "      <td>0.000000</td>\n",
       "    </tr>\n",
       "    <tr>\n",
       "      <th>25%</th>\n",
       "      <td>1.362190e+08</td>\n",
       "      <td>1.000000</td>\n",
       "      <td>0.000000</td>\n",
       "      <td>0.000000</td>\n",
       "      <td>0.000000</td>\n",
       "      <td>77.000000</td>\n",
       "      <td>0.000000</td>\n",
       "      <td>0.000000</td>\n",
       "      <td>0.000014</td>\n",
       "      <td>1.000000</td>\n",
       "      <td>...</td>\n",
       "      <td>0.000000</td>\n",
       "      <td>0.032258</td>\n",
       "      <td>0.000008</td>\n",
       "      <td>0.000000</td>\n",
       "      <td>0.000000</td>\n",
       "      <td>0.000000</td>\n",
       "      <td>0.001008</td>\n",
       "      <td>0.003073</td>\n",
       "      <td>0.033255</td>\n",
       "      <td>0.155761</td>\n",
       "    </tr>\n",
       "    <tr>\n",
       "      <th>50%</th>\n",
       "      <td>4.270587e+08</td>\n",
       "      <td>1.000000</td>\n",
       "      <td>0.000000</td>\n",
       "      <td>1.000000</td>\n",
       "      <td>0.000000</td>\n",
       "      <td>87.000000</td>\n",
       "      <td>1.000000</td>\n",
       "      <td>0.000000</td>\n",
       "      <td>0.000027</td>\n",
       "      <td>1.000000</td>\n",
       "      <td>...</td>\n",
       "      <td>0.000000</td>\n",
       "      <td>0.064516</td>\n",
       "      <td>0.000045</td>\n",
       "      <td>0.000000</td>\n",
       "      <td>0.000000</td>\n",
       "      <td>0.000000</td>\n",
       "      <td>0.002162</td>\n",
       "      <td>0.015184</td>\n",
       "      <td>0.033334</td>\n",
       "      <td>0.155979</td>\n",
       "    </tr>\n",
       "    <tr>\n",
       "      <th>75%</th>\n",
       "      <td>5.829234e+08</td>\n",
       "      <td>4.000000</td>\n",
       "      <td>0.000000</td>\n",
       "      <td>1.000000</td>\n",
       "      <td>0.000000</td>\n",
       "      <td>96.000000</td>\n",
       "      <td>2.000000</td>\n",
       "      <td>1.000000</td>\n",
       "      <td>0.000051</td>\n",
       "      <td>1.000000</td>\n",
       "      <td>...</td>\n",
       "      <td>0.000000</td>\n",
       "      <td>0.193548</td>\n",
       "      <td>0.000215</td>\n",
       "      <td>0.000000</td>\n",
       "      <td>0.004619</td>\n",
       "      <td>0.013514</td>\n",
       "      <td>0.004249</td>\n",
       "      <td>0.044107</td>\n",
       "      <td>0.033556</td>\n",
       "      <td>0.156417</td>\n",
       "    </tr>\n",
       "    <tr>\n",
       "      <th>max</th>\n",
       "      <td>6.283958e+08</td>\n",
       "      <td>26.000000</td>\n",
       "      <td>15.000000</td>\n",
       "      <td>1.000000</td>\n",
       "      <td>6.000000</td>\n",
       "      <td>199.000000</td>\n",
       "      <td>6.000000</td>\n",
       "      <td>7.000000</td>\n",
       "      <td>1.000000</td>\n",
       "      <td>1.000000</td>\n",
       "      <td>...</td>\n",
       "      <td>1.000000</td>\n",
       "      <td>1.000000</td>\n",
       "      <td>1.000000</td>\n",
       "      <td>255.000000</td>\n",
       "      <td>1.000000</td>\n",
       "      <td>1.000000</td>\n",
       "      <td>1.000000</td>\n",
       "      <td>1.000000</td>\n",
       "      <td>1.000000</td>\n",
       "      <td>1.000000</td>\n",
       "    </tr>\n",
       "  </tbody>\n",
       "</table>\n",
       "<p>8 rows × 32 columns</p>\n",
       "</div>"
      ],
      "text/plain": [
       "            user_id       province      user_type     user_group  \\\n",
       "count  2.298470e+05  229847.000000  229847.000000  229847.000000   \n",
       "mean   3.689137e+08       3.118096       0.695036       0.640617   \n",
       "std    2.143305e+08       3.613339       1.677578       0.479821   \n",
       "min    1.100000e+02       0.000000       0.000000       0.000000   \n",
       "25%    1.362190e+08       1.000000       0.000000       0.000000   \n",
       "50%    4.270587e+08       1.000000       0.000000       1.000000   \n",
       "75%    5.829234e+08       4.000000       0.000000       1.000000   \n",
       "max    6.283958e+08      26.000000      15.000000       1.000000   \n",
       "\n",
       "        account_type    user_tenure  referrer_type  user_register_from  \\\n",
       "count  229847.000000  229847.000000  229847.000000       229847.000000   \n",
       "mean        0.003502      87.451113       1.128642            0.421319   \n",
       "std         0.077322      11.537641       1.072323            0.683956   \n",
       "min         0.000000      74.000000       0.000000            0.000000   \n",
       "25%         0.000000      77.000000       0.000000            0.000000   \n",
       "50%         0.000000      87.000000       1.000000            0.000000   \n",
       "75%         0.000000      96.000000       2.000000            1.000000   \n",
       "max         6.000000     199.000000       6.000000            7.000000   \n",
       "\n",
       "       basket_amount        is_paid  ...         Is_new  Num_product_types  \\\n",
       "count  229847.000000  229847.000000  ...  229847.000000      229847.000000   \n",
       "mean        0.000088       0.961653  ...       0.129904           0.122215   \n",
       "std         0.002982       0.192034  ...       0.336198           0.126469   \n",
       "min         0.000000       0.000000  ...       0.000000           0.000000   \n",
       "25%         0.000014       1.000000  ...       0.000000           0.032258   \n",
       "50%         0.000027       1.000000  ...       0.000000           0.064516   \n",
       "75%         0.000051       1.000000  ...       0.000000           0.193548   \n",
       "max         1.000000       1.000000  ...       1.000000           1.000000   \n",
       "\n",
       "             Num_trx  Num_voucher_errors  Num_trx_voucher  \\\n",
       "count  229847.000000       229847.000000    229847.000000   \n",
       "mean        0.000297            0.542835         0.006131   \n",
       "std         0.002272            3.111895         0.016770   \n",
       "min         0.000000            0.000000         0.000000   \n",
       "25%         0.000008            0.000000         0.000000   \n",
       "50%         0.000045            0.000000         0.000000   \n",
       "75%         0.000215            0.000000         0.004619   \n",
       "max         1.000000          255.000000         1.000000   \n",
       "\n",
       "       Num_visit_promo_page  Average_session_length       Sessions  \\\n",
       "count         229847.000000           229847.000000  229847.000000   \n",
       "mean               0.013168                0.004542       0.033127   \n",
       "std                0.031455                0.013106       0.047460   \n",
       "min                0.000000                0.000000       0.000000   \n",
       "25%                0.000000                0.001008       0.003073   \n",
       "50%                0.000000                0.002162       0.015184   \n",
       "75%                0.013514                0.004249       0.044107   \n",
       "max                1.000000                1.000000       1.000000   \n",
       "\n",
       "                 Gmv            Aov  \n",
       "count  229847.000000  229847.000000  \n",
       "mean        0.033799       0.156813  \n",
       "std         0.006509       0.011334  \n",
       "min         0.000000       0.000000  \n",
       "25%         0.033255       0.155761  \n",
       "50%         0.033334       0.155979  \n",
       "75%         0.033556       0.156417  \n",
       "max         1.000000       1.000000  \n",
       "\n",
       "[8 rows x 32 columns]"
      ]
     },
     "execution_count": 282,
     "metadata": {},
     "output_type": "execute_result"
    }
   ],
   "source": [
    "data.describe()"
   ]
  },
  {
   "cell_type": "code",
   "execution_count": 283,
   "id": "9890857b-4a00-4935-9621-179602a7b772",
   "metadata": {},
   "outputs": [
    {
     "name": "stdout",
     "output_type": "stream",
     "text": [
      "<class 'pandas.core.frame.DataFrame'>\n",
      "RangeIndex: 229847 entries, 0 to 229846\n",
      "Data columns (total 38 columns):\n",
      " #   Column                          Non-Null Count   Dtype  \n",
      "---  ------                          --------------   -----  \n",
      " 0   user_id                         229847 non-null  int64  \n",
      " 1   marketing_tier                  229071 non-null  object \n",
      " 2   province                        229847 non-null  int64  \n",
      " 3   user_type                       229847 non-null  int64  \n",
      " 4   user_group                      229847 non-null  int64  \n",
      " 5   account_type                    229847 non-null  int64  \n",
      " 6   user_tenure                     229847 non-null  int64  \n",
      " 7   referrer_type                   229847 non-null  int64  \n",
      " 8   user_register_from              229847 non-null  int64  \n",
      " 9   basket_amount                   229847 non-null  float64\n",
      " 10  is_paid                         229847 non-null  int64  \n",
      " 11  is_remitted                     229847 non-null  int64  \n",
      " 12  purchase                        229847 non-null  int64  \n",
      " 13  time                            229847 non-null  object \n",
      " 14  checkout_month                  229847 non-null  object \n",
      " 15  checkout_day                    229847 non-null  object \n",
      " 16  checkout_date                   229847 non-null  int64  \n",
      " 17  checkout_week                   229847 non-null  int64  \n",
      " 18  Lag_day_from_previous_purchase  155635 non-null  object \n",
      " 19  Lag_day_from_previous_remitted  150592 non-null  object \n",
      " 20  voucher_type                    229847 non-null  int64  \n",
      " 21  voucher_valid                   229847 non-null  int64  \n",
      " 22  voucher_max_amount              229847 non-null  float64\n",
      " 23  voucher_percentage              229847 non-null  float64\n",
      " 24  Voucher_min_purchase            229847 non-null  float64\n",
      " 25  Voucher_amount                  229847 non-null  float64\n",
      " 26  Trx_is_voucher                  229847 non-null  int64  \n",
      " 27  User_purchased_prior            229847 non-null  int64  \n",
      " 28  Is_new                          229847 non-null  int64  \n",
      " 29  Num_product_types               229847 non-null  float64\n",
      " 30  Num_trx                         229847 non-null  float64\n",
      " 31  Num_voucher_errors              229847 non-null  int64  \n",
      " 32  Num_trx_voucher                 229847 non-null  float64\n",
      " 33  Num_visit_promo_page            229847 non-null  float64\n",
      " 34  Average_session_length          229847 non-null  float64\n",
      " 35  Sessions                        229847 non-null  float64\n",
      " 36  Gmv                             229847 non-null  float64\n",
      " 37  Aov                             229847 non-null  float64\n",
      "dtypes: float64(13), int64(19), object(6)\n",
      "memory usage: 66.6+ MB\n"
     ]
    }
   ],
   "source": [
    "data.info()"
   ]
  },
  {
   "cell_type": "code",
   "execution_count": 284,
   "id": "0d5a8c3d-9b8b-4cb6-b9dd-440424faa640",
   "metadata": {},
   "outputs": [
    {
     "data": {
      "text/plain": [
       "user_id                             int64\n",
       "marketing_tier                     object\n",
       "province                            int64\n",
       "user_type                           int64\n",
       "user_group                          int64\n",
       "account_type                        int64\n",
       "user_tenure                         int64\n",
       "referrer_type                       int64\n",
       "user_register_from                  int64\n",
       "basket_amount                     float64\n",
       "is_paid                             int64\n",
       "is_remitted                         int64\n",
       "purchase                            int64\n",
       "time                               object\n",
       "checkout_month                     object\n",
       "checkout_day                       object\n",
       "checkout_date                       int64\n",
       "checkout_week                       int64\n",
       "Lag_day_from_previous_purchase     object\n",
       "Lag_day_from_previous_remitted     object\n",
       "voucher_type                        int64\n",
       "voucher_valid                       int64\n",
       "voucher_max_amount                float64\n",
       "voucher_percentage                float64\n",
       "Voucher_min_purchase              float64\n",
       "Voucher_amount                    float64\n",
       "Trx_is_voucher                      int64\n",
       "User_purchased_prior                int64\n",
       "Is_new                              int64\n",
       "Num_product_types                 float64\n",
       "Num_trx                           float64\n",
       "Num_voucher_errors                  int64\n",
       "Num_trx_voucher                   float64\n",
       "Num_visit_promo_page              float64\n",
       "Average_session_length            float64\n",
       "Sessions                          float64\n",
       "Gmv                               float64\n",
       "Aov                               float64\n",
       "dtype: object"
      ]
     },
     "execution_count": 284,
     "metadata": {},
     "output_type": "execute_result"
    }
   ],
   "source": [
    "data.dtypes"
   ]
  },
  {
   "cell_type": "code",
   "execution_count": 404,
   "id": "8b939bc8-f5e4-4c18-a4c7-299f2fe075d1",
   "metadata": {},
   "outputs": [
    {
     "data": {
      "text/plain": [
       "user_id                               0\n",
       "marketing_tier                      776\n",
       "province                              0\n",
       "user_type                             0\n",
       "user_group                            0\n",
       "account_type                          0\n",
       "user_tenure                           0\n",
       "referrer_type                         0\n",
       "user_register_from                    0\n",
       "basket_amount                         0\n",
       "is_paid                               0\n",
       "is_remitted                           0\n",
       "purchase                              0\n",
       "time                                  0\n",
       "checkout_month                        0\n",
       "checkout_day                          0\n",
       "checkout_date                         0\n",
       "checkout_week                         0\n",
       "Lag_day_from_previous_purchase    74212\n",
       "Lag_day_from_previous_remitted    79255\n",
       "voucher_type                          0\n",
       "voucher_valid                         0\n",
       "voucher_max_amount                    0\n",
       "voucher_percentage                    0\n",
       "Voucher_min_purchase                  0\n",
       "Voucher_amount                        0\n",
       "Trx_is_voucher                        0\n",
       "User_purchased_prior                  0\n",
       "Is_new                                0\n",
       "Num_product_types                     0\n",
       "Num_trx                               0\n",
       "Num_voucher_errors                    0\n",
       "Num_trx_voucher                       0\n",
       "Num_visit_promo_page                  0\n",
       "Average_session_length                0\n",
       "Sessions                              0\n",
       "Gmv                                   0\n",
       "Aov                                   0\n",
       "dtype: int64"
      ]
     },
     "execution_count": 404,
     "metadata": {},
     "output_type": "execute_result"
    }
   ],
   "source": [
    "#Check Missing Value.\n",
    "#Based on missing value checking, variable marketing_tier has 776 missing values. We can consider dropping the variable.\n",
    "#Meanwhile, I assume the variable voucher_type and voucher_valid is intended null due to no voucher attached.\n",
    "data.isna().sum()"
   ]
  },
  {
   "cell_type": "code",
   "execution_count": 286,
   "id": "10275eff-f3b5-4168-b5af-7e83257174e4",
   "metadata": {},
   "outputs": [
    {
     "data": {
      "text/plain": [
       "user_id                            69306\n",
       "marketing_tier                         4\n",
       "province                              27\n",
       "user_type                             16\n",
       "user_group                             2\n",
       "account_type                           7\n",
       "user_tenure                          100\n",
       "referrer_type                          7\n",
       "user_register_from                     8\n",
       "basket_amount                     125094\n",
       "is_paid                                2\n",
       "is_remitted                            2\n",
       "purchase                               2\n",
       "time                              229835\n",
       "checkout_month                         4\n",
       "checkout_day                           7\n",
       "checkout_date                         31\n",
       "checkout_week                          7\n",
       "Lag_day_from_previous_purchase        91\n",
       "Lag_day_from_previous_remitted        91\n",
       "voucher_type                           2\n",
       "voucher_valid                          2\n",
       "voucher_max_amount                    26\n",
       "voucher_percentage                    20\n",
       "Voucher_min_purchase                  16\n",
       "Voucher_amount                      7451\n",
       "Trx_is_voucher                         2\n",
       "User_purchased_prior                   2\n",
       "Is_new                                 2\n",
       "Num_product_types                     31\n",
       "Num_trx                             1868\n",
       "Num_voucher_errors                   102\n",
       "Num_trx_voucher                      122\n",
       "Num_visit_promo_page                  95\n",
       "Average_session_length             72915\n",
       "Sessions                            1513\n",
       "Gmv                                65720\n",
       "Aov                                65714\n",
       "dtype: int64"
      ]
     },
     "execution_count": 286,
     "metadata": {},
     "output_type": "execute_result"
    }
   ],
   "source": [
    "#Check Uniqueness\n",
    "#There are 69,306 unique users\n",
    "data.nunique()"
   ]
  },
  {
   "cell_type": "code",
   "execution_count": 287,
   "id": "e379157e-8962-462e-8624-8732f70eeb21",
   "metadata": {},
   "outputs": [
    {
     "data": {
      "text/plain": [
       "<AxesSubplot:>"
      ]
     },
     "execution_count": 287,
     "metadata": {},
     "output_type": "execute_result"
    },
    {
     "data": {
      "image/png": "[encoded data removed]",
      "text/plain": [
       "<Figure size 864x648 with 2 Axes>"
      ]
     },
     "metadata": {},
     "output_type": "display_data"
    }
   ],
   "source": [
    "#Check Correlation between variables\n",
    "corrmat=data.corr()\n",
    "plt.subplots(figsize=(12,9))\n",
    "sns.heatmap(cormat,vmax=0.9,square=True)\n",
    "#We can consider to choose one variable that have a high correlation with other variables."
   ]
  },
  {
   "cell_type": "markdown",
   "id": "ac78676d-a505-4a27-9cd4-734e86878eca",
   "metadata": {
    "tags": []
   },
   "source": [
    "## Target & Features Engineering (for y='purchase' )"
   ]
  },
  {
   "cell_type": "code",
   "execution_count": 288,
   "id": "f8e57b1a-270e-47d9-bfd8-085e81e86e95",
   "metadata": {},
   "outputs": [
    {
     "data": {
      "text/plain": [
       "1    222467\n",
       "0      7380\n",
       "Name: purchase, dtype: int64"
      ]
     },
     "execution_count": 288,
     "metadata": {},
     "output_type": "execute_result"
    }
   ],
   "source": [
    "data['purchase'].value_counts()"
   ]
  },
  {
   "cell_type": "code",
   "execution_count": 289,
   "id": "b2bd2633-ceff-4438-a5bf-c37bdee817ea",
   "metadata": {},
   "outputs": [
    {
     "data": {
      "image/png": "[encoded data removed]",
      "text/plain": [
       "<Figure size 432x288 with 1 Axes>"
      ]
     },
     "metadata": {},
     "output_type": "display_data"
    }
   ],
   "source": [
    "sns.countplot(x='purchase',data=data, palette='hls')\n",
    "plt.show()"
   ]
  },
  {
   "cell_type": "code",
   "execution_count": 290,
   "id": "efbdb9fc-383b-47dc-8c53-a6489d0ab327",
   "metadata": {},
   "outputs": [
    {
     "name": "stdout",
     "output_type": "stream",
     "text": [
      "percentage of no purchase is 3.2108315531636262\n",
      "percentage of purchase 96.78916844683637\n"
     ]
    }
   ],
   "source": [
    "count_no_purchase = len(data[data['purchase']==0])\n",
    "count_purchase = len(data[data['purchase']==1])\n",
    "pct_of_no_purchase = count_no_purchase/(count_no_purchase+count_purchase)\n",
    "print(\"percentage of no purchase is\", pct_of_no_purchase*100)\n",
    "pct_of_purchase = count_purchase/(count_no_purchase+count_purchase)\n",
    "print(\"percentage of purchase\", pct_of_purchase*100)"
   ]
  },
  {
   "cell_type": "markdown",
   "id": "0e49146c-a072-42d9-b3ad-68516171a980",
   "metadata": {},
   "source": [
    "Target Observation: our classes of purchase are imbalance. the ratio is 96:4. Before we go ahead to modelling, we need to do oversamping using SMOTE algorithm \n",
    "(Synthetic Minority Oversampling Technique)"
   ]
  },
  {
   "cell_type": "code",
   "execution_count": 291,
   "id": "7bc9476f-6ce3-484c-9599-ba29ef38b7c9",
   "metadata": {},
   "outputs": [
    {
     "data": {
      "text/html": [
       "<div>\n",
       "<style scoped>\n",
       "    .dataframe tbody tr th:only-of-type {\n",
       "        vertical-align: middle;\n",
       "    }\n",
       "\n",
       "    .dataframe tbody tr th {\n",
       "        vertical-align: top;\n",
       "    }\n",
       "\n",
       "    .dataframe thead th {\n",
       "        text-align: right;\n",
       "    }\n",
       "</style>\n",
       "<table border=\"1\" class=\"dataframe\">\n",
       "  <thead>\n",
       "    <tr style=\"text-align: right;\">\n",
       "      <th></th>\n",
       "      <th>user_id</th>\n",
       "      <th>province</th>\n",
       "      <th>user_type</th>\n",
       "      <th>user_group</th>\n",
       "      <th>account_type</th>\n",
       "      <th>user_tenure</th>\n",
       "      <th>referrer_type</th>\n",
       "      <th>user_register_from</th>\n",
       "      <th>basket_amount</th>\n",
       "      <th>is_paid</th>\n",
       "      <th>...</th>\n",
       "      <th>Is_new</th>\n",
       "      <th>Num_product_types</th>\n",
       "      <th>Num_trx</th>\n",
       "      <th>Num_voucher_errors</th>\n",
       "      <th>Num_trx_voucher</th>\n",
       "      <th>Num_visit_promo_page</th>\n",
       "      <th>Average_session_length</th>\n",
       "      <th>Sessions</th>\n",
       "      <th>Gmv</th>\n",
       "      <th>Aov</th>\n",
       "    </tr>\n",
       "    <tr>\n",
       "      <th>purchase</th>\n",
       "      <th></th>\n",
       "      <th></th>\n",
       "      <th></th>\n",
       "      <th></th>\n",
       "      <th></th>\n",
       "      <th></th>\n",
       "      <th></th>\n",
       "      <th></th>\n",
       "      <th></th>\n",
       "      <th></th>\n",
       "      <th></th>\n",
       "      <th></th>\n",
       "      <th></th>\n",
       "      <th></th>\n",
       "      <th></th>\n",
       "      <th></th>\n",
       "      <th></th>\n",
       "      <th></th>\n",
       "      <th></th>\n",
       "      <th></th>\n",
       "      <th></th>\n",
       "    </tr>\n",
       "  </thead>\n",
       "  <tbody>\n",
       "    <tr>\n",
       "      <th>0</th>\n",
       "      <td>3.494309e+08</td>\n",
       "      <td>2.401491</td>\n",
       "      <td>0.762737</td>\n",
       "      <td>0.619377</td>\n",
       "      <td>0.014905</td>\n",
       "      <td>88.610434</td>\n",
       "      <td>1.045935</td>\n",
       "      <td>0.457995</td>\n",
       "      <td>0.000307</td>\n",
       "      <td>0.000000</td>\n",
       "      <td>...</td>\n",
       "      <td>0.090244</td>\n",
       "      <td>0.116658</td>\n",
       "      <td>0.000225</td>\n",
       "      <td>1.304878</td>\n",
       "      <td>0.004740</td>\n",
       "      <td>0.018056</td>\n",
       "      <td>0.004762</td>\n",
       "      <td>0.039885</td>\n",
       "      <td>0.033582</td>\n",
       "      <td>0.156517</td>\n",
       "    </tr>\n",
       "    <tr>\n",
       "      <th>1</th>\n",
       "      <td>3.695600e+08</td>\n",
       "      <td>3.141868</td>\n",
       "      <td>0.692790</td>\n",
       "      <td>0.641322</td>\n",
       "      <td>0.003124</td>\n",
       "      <td>87.412654</td>\n",
       "      <td>1.131386</td>\n",
       "      <td>0.420103</td>\n",
       "      <td>0.000081</td>\n",
       "      <td>0.993554</td>\n",
       "      <td>...</td>\n",
       "      <td>0.131219</td>\n",
       "      <td>0.122399</td>\n",
       "      <td>0.000300</td>\n",
       "      <td>0.517555</td>\n",
       "      <td>0.006177</td>\n",
       "      <td>0.013006</td>\n",
       "      <td>0.004534</td>\n",
       "      <td>0.032902</td>\n",
       "      <td>0.033807</td>\n",
       "      <td>0.156822</td>\n",
       "    </tr>\n",
       "  </tbody>\n",
       "</table>\n",
       "<p>2 rows × 31 columns</p>\n",
       "</div>"
      ],
      "text/plain": [
       "               user_id  province  user_type  user_group  account_type  \\\n",
       "purchase                                                                \n",
       "0         3.494309e+08  2.401491   0.762737    0.619377      0.014905   \n",
       "1         3.695600e+08  3.141868   0.692790    0.641322      0.003124   \n",
       "\n",
       "          user_tenure  referrer_type  user_register_from  basket_amount  \\\n",
       "purchase                                                                  \n",
       "0           88.610434       1.045935            0.457995       0.000307   \n",
       "1           87.412654       1.131386            0.420103       0.000081   \n",
       "\n",
       "           is_paid  ...    Is_new  Num_product_types   Num_trx  \\\n",
       "purchase            ...                                          \n",
       "0         0.000000  ...  0.090244           0.116658  0.000225   \n",
       "1         0.993554  ...  0.131219           0.122399  0.000300   \n",
       "\n",
       "          Num_voucher_errors  Num_trx_voucher  Num_visit_promo_page  \\\n",
       "purchase                                                              \n",
       "0                   1.304878         0.004740              0.018056   \n",
       "1                   0.517555         0.006177              0.013006   \n",
       "\n",
       "          Average_session_length  Sessions       Gmv       Aov  \n",
       "purchase                                                        \n",
       "0                       0.004762  0.039885  0.033582  0.156517  \n",
       "1                       0.004534  0.032902  0.033807  0.156822  \n",
       "\n",
       "[2 rows x 31 columns]"
      ]
     },
     "execution_count": 291,
     "metadata": {},
     "output_type": "execute_result"
    }
   ],
   "source": [
    "data.groupby('purchase').mean()"
   ]
  },
  {
   "cell_type": "markdown",
   "id": "a240fdd5-7a58-42ac-9c73-8523a1cc33e8",
   "metadata": {},
   "source": [
    "Observation for purchase transaction variable:\n",
    "- total basket amount is lower\n",
    "- user who has purchased prior is higher\n",
    "- number of vouchers errors is lower\n",
    "- number trx with voucher is higher\n",
    "- number visit promo page is lower\n",
    "- average session length and session prior is lower"
   ]
  },
  {
   "cell_type": "code",
   "execution_count": 292,
   "id": "01f6461e-8128-4d7c-b94f-fb162c712100",
   "metadata": {},
   "outputs": [
    {
     "data": {
      "text/plain": [
       "Text(0, 0.5, 'Purchase')"
      ]
     },
     "execution_count": 292,
     "metadata": {},
     "output_type": "execute_result"
    },
    {
     "data": {
      "image/png": "[encoded data removed]",
      "text/plain": [
       "<Figure size 432x288 with 1 Axes>"
      ]
     },
     "metadata": {
      "needs_background": "light"
     },
     "output_type": "display_data"
    }
   ],
   "source": [
    "%matplotlib inline\n",
    "pd.crosstab(data.province,data.purchase).plot(kind='bar')\n",
    "plt.title('Purchase Frequency for Province')\n",
    "plt.xlabel('Province')\n",
    "plt.ylabel('Purchase')"
   ]
  },
  {
   "cell_type": "code",
   "execution_count": 327,
   "id": "730dbbf8-a7d5-46c2-a53b-979a843c913a",
   "metadata": {},
   "outputs": [],
   "source": [
    "#Grouping province"
   ]
  },
  {
   "cell_type": "code",
   "execution_count": 56,
   "id": "ca07a1fc-faba-4aec-b184-c1ce441f5641",
   "metadata": {},
   "outputs": [],
   "source": [
    "data['province']=np.where(data['province'] =='0', 'Others', data['province'])\n",
    "data['province']=np.where(data['province'] =='7', 'Others', data['province'])\n",
    "data['province']=np.where(data['province'] =='13', 'Others', data['province'])\n",
    "data['province']=np.where(data['province'] =='5', 'Others', data['province'])\n",
    "data['province']=np.where(data['province'] =='8', 'Others', data['province'])\n",
    "data['province']=np.where(data['province'] =='10', 'Others', data['province'])\n",
    "data['province']=np.where(data['province'] =='9', 'Others', data['province'])\n",
    "data['province']=np.where(data['province'] =='14', 'Others', data['province'])\n",
    "data['province']=np.where(data['province'] =='16', 'Others', data['province'])\n",
    "data['province']=np.where(data['province'] =='12', 'Others', data['province'])\n",
    "data['province']=np.where(data['province'] =='17', 'Others', data['province'])\n",
    "data['province']=np.where(data['province'] =='6', 'Others', data['province'])\n",
    "data['province']=np.where(data['province'] =='11', 'Others', data['province'])\n",
    "data['province']=np.where(data['province'] =='18', 'Others', data['province'])\n",
    "data['province']=np.where(data['province'] =='19', 'Others', data['province'])\n",
    "data['province']=np.where(data['province'] =='22', 'Others', data['province'])\n",
    "data['province']=np.where(data['province'] =='23', 'Others', data['province'])\n",
    "data['province']=np.where(data['province'] =='15', 'Others', data['province'])\n",
    "data['province']=np.where(data['province'] =='21', 'Others', data['province'])\n",
    "data['province']=np.where(data['province'] =='20', 'Others', data['province'])\n",
    "data['province']=np.where(data['province'] =='24', 'Others', data['province'])\n",
    "data['province']=np.where(data['province'] =='26', 'Others', data['province'])\n",
    "data['province']=np.where(data['province'] =='25', 'Others', data['province'])"
   ]
  },
  {
   "cell_type": "code",
   "execution_count": 57,
   "id": "7790d71a-05ea-48ef-ac95-09c72abb3108",
   "metadata": {},
   "outputs": [
    {
     "data": {
      "text/plain": [
       "array(['1', 'Others', '0', '3', '4', '2'], dtype=object)"
      ]
     },
     "execution_count": 57,
     "metadata": {},
     "output_type": "execute_result"
    }
   ],
   "source": [
    "data['province'].unique()"
   ]
  },
  {
   "cell_type": "code",
   "execution_count": 330,
   "id": "159a36cd-6d40-4fc5-9e2c-899cf8a06050",
   "metadata": {},
   "outputs": [
    {
     "data": {
      "text/plain": [
       "Text(0, 0.5, 'Purchase')"
      ]
     },
     "execution_count": 330,
     "metadata": {},
     "output_type": "execute_result"
    },
    {
     "data": {
      "image/png": "[encoded data removed]",
      "text/plain": [
       "<Figure size 432x288 with 1 Axes>"
      ]
     },
     "metadata": {
      "needs_background": "light"
     },
     "output_type": "display_data"
    }
   ],
   "source": [
    "%matplotlib inline\n",
    "pd.crosstab(data.province,data.purchase).plot(kind='bar')\n",
    "plt.title('Purchase Frequency for Province')\n",
    "plt.xlabel('Province')\n",
    "plt.ylabel('Purchase')"
   ]
  },
  {
   "cell_type": "code",
   "execution_count": 293,
   "id": "877c8300-9d05-4cb5-a756-0a7b72f92fd7",
   "metadata": {},
   "outputs": [
    {
     "data": {
      "text/plain": [
       "Text(0, 0.5, 'Purchase')"
      ]
     },
     "execution_count": 293,
     "metadata": {},
     "output_type": "execute_result"
    },
    {
     "data": {
      "image/png": "[encoded data removed]",
      "text/plain": [
       "<Figure size 432x288 with 1 Axes>"
      ]
     },
     "metadata": {
      "needs_background": "light"
     },
     "output_type": "display_data"
    }
   ],
   "source": [
    "%matplotlib inline\n",
    "pd.crosstab(data.user_type,data.purchase).plot(kind='bar')\n",
    "plt.title('Purchase Frequency for User_type')\n",
    "plt.xlabel('User_type')\n",
    "plt.ylabel('Purchase')"
   ]
  },
  {
   "cell_type": "code",
   "execution_count": 294,
   "id": "02ab4ab8-9beb-4b50-b675-5485f24ad275",
   "metadata": {},
   "outputs": [
    {
     "data": {
      "text/plain": [
       "Text(0, 0.5, 'Purchase')"
      ]
     },
     "execution_count": 294,
     "metadata": {},
     "output_type": "execute_result"
    },
    {
     "data": {
      "image/png": "[encoded data removed]",
      "text/plain": [
       "<Figure size 432x288 with 1 Axes>"
      ]
     },
     "metadata": {
      "needs_background": "light"
     },
     "output_type": "display_data"
    }
   ],
   "source": [
    "%matplotlib inline\n",
    "pd.crosstab(data.user_group,data.purchase).plot(kind='bar')\n",
    "plt.title('Purchase Frequency for User_group')\n",
    "plt.xlabel('User_group')\n",
    "plt.ylabel('Purchase')"
   ]
  },
  {
   "cell_type": "markdown",
   "id": "8224f330-bfc5-4081-920d-97ca122c352d",
   "metadata": {},
   "source": [
    "User_group variable seems a good predictor of the outcome variable."
   ]
  },
  {
   "cell_type": "code",
   "execution_count": 295,
   "id": "d34defd9-d04b-4cfd-bb6f-9a0ac24beb34",
   "metadata": {},
   "outputs": [
    {
     "data": {
      "text/plain": [
       "Text(0, 0.5, 'Purchase')"
      ]
     },
     "execution_count": 295,
     "metadata": {},
     "output_type": "execute_result"
    },
    {
     "data": {
      "image/png": "[encoded data removed]",
      "text/plain": [
       "<Figure size 432x288 with 1 Axes>"
      ]
     },
     "metadata": {
      "needs_background": "light"
     },
     "output_type": "display_data"
    }
   ],
   "source": [
    "%matplotlib inline\n",
    "pd.crosstab(data.account_type,data.purchase).plot(kind='bar')\n",
    "plt.title('Purchase Frequency for Account_type')\n",
    "plt.xlabel('Account_type')\n",
    "plt.ylabel('Purchase')"
   ]
  },
  {
   "cell_type": "markdown",
   "id": "eede1df3-b253-4431-a6fa-00f73ad3db7b",
   "metadata": {},
   "source": [
    "Account_type data dominated by account_type=0. Thus we can exclude account_type variable because it does not seem a strong predictor for the outcome variable."
   ]
  },
  {
   "cell_type": "markdown",
   "id": "3d4368cd-db56-4d72-8cef-a3fdbe309f45",
   "metadata": {},
   "source": [
    "Need to group user_tenure variable"
   ]
  },
  {
   "cell_type": "code",
   "execution_count": 296,
   "id": "c97aa1da-2076-4c2f-be92-a9bb05cc7fd6",
   "metadata": {},
   "outputs": [
    {
     "data": {
      "text/plain": [
       "Text(0, 0.5, 'Purchase')"
      ]
     },
     "execution_count": 296,
     "metadata": {},
     "output_type": "execute_result"
    },
    {
     "data": {
      "image/png": "[encoded data removed]",
      "text/plain": [
       "<Figure size 432x288 with 1 Axes>"
      ]
     },
     "metadata": {
      "needs_background": "light"
     },
     "output_type": "display_data"
    }
   ],
   "source": [
    "%matplotlib inline\n",
    "pd.crosstab(data.referrer_type,data.purchase).plot(kind='bar')\n",
    "plt.title('Purchase Frequency for Referrer_type')\n",
    "plt.xlabel('Referrer_type')\n",
    "plt.ylabel('Purchase')"
   ]
  },
  {
   "cell_type": "markdown",
   "id": "59c0a0f0-7ddd-4ee9-bcba-f37d7e7ec768",
   "metadata": {},
   "source": [
    "Referrer_type variable seems a good predictor of the outcome variable."
   ]
  },
  {
   "cell_type": "code",
   "execution_count": 297,
   "id": "f02b778b-8216-4851-9349-0c2476af928c",
   "metadata": {},
   "outputs": [
    {
     "data": {
      "text/plain": [
       "Text(0, 0.5, 'Purchase')"
      ]
     },
     "execution_count": 297,
     "metadata": {},
     "output_type": "execute_result"
    },
    {
     "data": {
      "image/png": "[encoded data removed]",
      "text/plain": [
       "<Figure size 432x288 with 1 Axes>"
      ]
     },
     "metadata": {
      "needs_background": "light"
     },
     "output_type": "display_data"
    }
   ],
   "source": [
    "%matplotlib inline\n",
    "pd.crosstab(data.user_register_from,data.purchase).plot(kind='bar')\n",
    "plt.title('Purchase Frequency for User_register_from')\n",
    "plt.xlabel('User_register_from')\n",
    "plt.ylabel('Purchase')"
   ]
  },
  {
   "cell_type": "markdown",
   "id": "b8ae7d10-5103-4701-89c1-7ceb80725bf5",
   "metadata": {},
   "source": [
    "User_register_from variable seems a good predictor of the outcome variable."
   ]
  },
  {
   "cell_type": "code",
   "execution_count": 298,
   "id": "545d2ff1-85de-41c5-b93b-ac233b812505",
   "metadata": {},
   "outputs": [
    {
     "data": {
      "text/plain": [
       "Text(0, 0.5, 'Purchase')"
      ]
     },
     "execution_count": 298,
     "metadata": {},
     "output_type": "execute_result"
    },
    {
     "data": {
      "image/png": "[encoded data removed]",
      "text/plain": [
       "<Figure size 432x288 with 1 Axes>"
      ]
     },
     "metadata": {
      "needs_background": "light"
     },
     "output_type": "display_data"
    }
   ],
   "source": [
    "%matplotlib inline\n",
    "pd.crosstab(data.checkout_month,data.purchase).plot(kind='bar')\n",
    "plt.title('Purchase Frequency for Checkout_month')\n",
    "plt.xlabel('Checkout_month')\n",
    "plt.ylabel('Purchase')"
   ]
  },
  {
   "cell_type": "markdown",
   "id": "b50450a2-135a-4366-b417-b2195399bd9f",
   "metadata": {},
   "source": [
    "Checkout_month variable might be a good predictor of the outcome variable."
   ]
  },
  {
   "cell_type": "code",
   "execution_count": 299,
   "id": "440558ba-214c-4963-a50c-2d3b85322574",
   "metadata": {},
   "outputs": [
    {
     "data": {
      "text/plain": [
       "Text(0, 0.5, 'Purchase')"
      ]
     },
     "execution_count": 299,
     "metadata": {},
     "output_type": "execute_result"
    },
    {
     "data": {
      "image/png": "[encoded data removed]",
      "text/plain": [
       "<Figure size 432x288 with 1 Axes>"
      ]
     },
     "metadata": {
      "needs_background": "light"
     },
     "output_type": "display_data"
    }
   ],
   "source": [
    "%matplotlib inline\n",
    "pd.crosstab(data.checkout_day,data.purchase).plot(kind='bar')\n",
    "plt.title('Purchase Frequency for Checkout_day')\n",
    "plt.xlabel('Checkout_day')\n",
    "plt.ylabel('Purchase')"
   ]
  },
  {
   "cell_type": "markdown",
   "id": "77f5d733-11f2-4e8b-b912-2120380d5575",
   "metadata": {},
   "source": [
    "Checkout_day variable might be a good predictor of the outcome variable."
   ]
  },
  {
   "cell_type": "code",
   "execution_count": 300,
   "id": "c0ce479b-c722-45fa-9ce5-407e01d09dcd",
   "metadata": {},
   "outputs": [
    {
     "data": {
      "text/plain": [
       "Text(0, 0.5, 'Purchase')"
      ]
     },
     "execution_count": 300,
     "metadata": {},
     "output_type": "execute_result"
    },
    {
     "data": {
      "image/png": "[encoded data removed]",
      "text/plain": [
       "<Figure size 432x288 with 1 Axes>"
      ]
     },
     "metadata": {
      "needs_background": "light"
     },
     "output_type": "display_data"
    }
   ],
   "source": [
    "%matplotlib inline\n",
    "pd.crosstab(data.checkout_date,data.purchase).plot(kind='bar')\n",
    "plt.title('Purchase Frequency for Checkout_date')\n",
    "plt.xlabel('Checkout_date')\n",
    "plt.ylabel('Purchase')"
   ]
  },
  {
   "cell_type": "markdown",
   "id": "1182e2b2-c399-430b-b2bd-8e446342bf93",
   "metadata": {},
   "source": [
    "Checkout_date variable might be a good predictor of the outcome variable."
   ]
  },
  {
   "cell_type": "code",
   "execution_count": 301,
   "id": "c2efc62e-9f15-4947-8b82-3c8b00e04fd6",
   "metadata": {},
   "outputs": [
    {
     "data": {
      "text/plain": [
       "Text(0, 0.5, 'Purchase')"
      ]
     },
     "execution_count": 301,
     "metadata": {},
     "output_type": "execute_result"
    },
    {
     "data": {
      "image/png": "[encoded data removed]",
      "text/plain": [
       "<Figure size 432x288 with 1 Axes>"
      ]
     },
     "metadata": {
      "needs_background": "light"
     },
     "output_type": "display_data"
    }
   ],
   "source": [
    "%matplotlib inline\n",
    "pd.crosstab(data.checkout_week,data.purchase).plot(kind='bar')\n",
    "plt.title('Purchase Frequency for Checkout_week')\n",
    "plt.xlabel('Checkout_week')\n",
    "plt.ylabel('Purchase')"
   ]
  },
  {
   "cell_type": "markdown",
   "id": "a8cdaabb-2283-43ed-93b9-a51a4f22e2db",
   "metadata": {},
   "source": [
    "Checkout_date variable might be a good predictor of the outcome variable."
   ]
  },
  {
   "cell_type": "code",
   "execution_count": 302,
   "id": "0f476187-8edf-4cef-b6ed-69475672abc2",
   "metadata": {},
   "outputs": [
    {
     "data": {
      "text/plain": [
       "Text(0, 0.5, 'Purchase')"
      ]
     },
     "execution_count": 302,
     "metadata": {},
     "output_type": "execute_result"
    },
    {
     "data": {
      "image/png": "[encoded data removed]",
      "text/plain": [
       "<Figure size 432x288 with 1 Axes>"
      ]
     },
     "metadata": {
      "needs_background": "light"
     },
     "output_type": "display_data"
    }
   ],
   "source": [
    "%matplotlib inline\n",
    "pd.crosstab(data.voucher_type,data.purchase).plot(kind='bar')\n",
    "plt.title('Purchase Frequency for Voucher_type')\n",
    "plt.xlabel('Voucher_type')\n",
    "plt.ylabel('Purchase')"
   ]
  },
  {
   "cell_type": "markdown",
   "id": "6eef3a9b-81f1-4e13-9a0f-eb568f481f5e",
   "metadata": {},
   "source": [
    "Voucher_type variable might be a good predictor of the outcome variable."
   ]
  },
  {
   "cell_type": "code",
   "execution_count": 303,
   "id": "529fb74a-414f-460c-8780-a320cca9bff3",
   "metadata": {},
   "outputs": [
    {
     "data": {
      "text/plain": [
       "Text(0, 0.5, 'Purchase')"
      ]
     },
     "execution_count": 303,
     "metadata": {},
     "output_type": "execute_result"
    },
    {
     "data": {
      "image/png": "[encoded data removed]",
      "text/plain": [
       "<Figure size 432x288 with 1 Axes>"
      ]
     },
     "metadata": {
      "needs_background": "light"
     },
     "output_type": "display_data"
    }
   ],
   "source": [
    "%matplotlib inline\n",
    "pd.crosstab(data.voucher_valid,data.purchase).plot(kind='bar')\n",
    "plt.title('Purchase Frequency for Voucher_valid')\n",
    "plt.xlabel('Voucher_valid')\n",
    "plt.ylabel('Purchase')"
   ]
  },
  {
   "cell_type": "markdown",
   "id": "da3bc0b2-88df-4e44-b87a-c1016a41a672",
   "metadata": {},
   "source": [
    "Voucher_valid variable might be a good predictor of the outcome variable."
   ]
  },
  {
   "cell_type": "markdown",
   "id": "6b681671-c82e-4e8c-9e0d-d54c5256db4d",
   "metadata": {},
   "source": [
    "## Create dummy variables"
   ]
  },
  {
   "cell_type": "code",
   "execution_count": 58,
   "id": "04f436c9-1718-4e70-b861-60cfc954fbf4",
   "metadata": {},
   "outputs": [
    {
     "data": {
      "text/plain": [
       "array(['user_id', 'marketing_tier', 'user_tenure', 'basket_amount',\n",
       "       'is_paid', 'is_remitted', 'purchase', 'time', 'checkout_date',\n",
       "       'Lag_day_from_previous_purchase', 'Lag_day_from_previous_remitted',\n",
       "       'voucher_max_amount', 'voucher_percentage', 'Voucher_min_purchase',\n",
       "       'Voucher_amount', 'Num_product_types', 'Num_trx',\n",
       "       'Num_voucher_errors', 'Num_trx_voucher', 'Num_visit_promo_page',\n",
       "       'Average_session_length', 'Sessions', 'Gmv', 'Aov', 'province_0',\n",
       "       'province_1', 'province_2', 'province_3', 'province_4',\n",
       "       'province_Others', 'user_type_0', 'user_type_1', 'user_type_2',\n",
       "       'user_type_3', 'user_type_4', 'user_type_5', 'user_type_6',\n",
       "       'user_type_7', 'user_type_8', 'user_type_9', 'user_type_10',\n",
       "       'user_type_11', 'user_type_12', 'user_type_13', 'user_type_14',\n",
       "       'user_type_15', 'user_group_0', 'user_group_1', 'account_type_0',\n",
       "       'account_type_1', 'account_type_2', 'account_type_3',\n",
       "       'account_type_4', 'account_type_5', 'account_type_6',\n",
       "       'referrer_type_0', 'referrer_type_1', 'referrer_type_2',\n",
       "       'referrer_type_3', 'referrer_type_4', 'referrer_type_5',\n",
       "       'referrer_type_6', 'user_register_from_0', 'user_register_from_1',\n",
       "       'user_register_from_2', 'user_register_from_3',\n",
       "       'user_register_from_4', 'user_register_from_5',\n",
       "       'user_register_from_6', 'user_register_from_7',\n",
       "       'checkout_month_April', 'checkout_month_June',\n",
       "       'checkout_month_March', 'checkout_month_May', 'checkout_day_Fri',\n",
       "       'checkout_day_Mon', 'checkout_day_Sat', 'checkout_day_Sun',\n",
       "       'checkout_day_Thu', 'checkout_day_Tue', 'checkout_day_Wed',\n",
       "       'checkout_week_0', 'checkout_week_1', 'checkout_week_2',\n",
       "       'checkout_week_3', 'checkout_week_4', 'checkout_week_5',\n",
       "       'checkout_week_6', 'voucher_type_0', 'voucher_type_1',\n",
       "       'voucher_valid_0', 'voucher_valid_1', 'Trx_is_voucher_0',\n",
       "       'Trx_is_voucher_1', 'User_purchased_prior_0',\n",
       "       'User_purchased_prior_1', 'Is_new_0', 'Is_new_1'], dtype=object)"
      ]
     },
     "execution_count": 58,
     "metadata": {},
     "output_type": "execute_result"
    }
   ],
   "source": [
    "cat_vars=['province','user_type','user_group','account_type','referrer_type','user_register_from','checkout_month','checkout_day','checkout_week', 'voucher_type', 'voucher_valid','Trx_is_voucher','User_purchased_prior', 'Is_new']\n",
    "for var in cat_vars:\n",
    "    cat_list='var'+'_'+var\n",
    "    cat_list = pd.get_dummies(data[var], prefix=var)\n",
    "    data1=data.join(cat_list)\n",
    "    data=data1\n",
    "    \n",
    "cat_vars=['province','user_type','user_group','account_type','referrer_type','user_register_from','checkout_month','checkout_day','checkout_week','voucher_type', 'voucher_valid','Trx_is_voucher','User_purchased_prior', 'Is_new']\n",
    "data_vars=data.columns.values.tolist()\n",
    "to_keep=[i for i in data_vars if i not in cat_vars]\n",
    "data_final=data[to_keep]\n",
    "data_final.columns.values"
   ]
  },
  {
   "cell_type": "code",
   "execution_count": 59,
   "id": "78be4b39-18e0-45e6-99ee-ca37603c8937",
   "metadata": {},
   "outputs": [],
   "source": [
    "cols=['user_id', 'user_tenure', 'basket_amount',\n",
    "       'is_paid', 'is_remitted', 'purchase', 'checkout_date',\n",
    "       'voucher_max_amount', 'voucher_percentage', 'Voucher_min_purchase',\n",
    "       'Voucher_amount', 'Num_product_types', 'Num_trx',\n",
    "       'Num_voucher_errors', 'Num_trx_voucher', 'Num_visit_promo_page',\n",
    "       'Average_session_length', 'Sessions', 'Gmv', 'Aov', 'province_0',\n",
    "       'province_1', 'province_2', 'province_3', 'province_4',\n",
    "       'province_Others', 'user_type_0', 'user_type_1', 'user_type_2',\n",
    "       'user_type_3', 'user_type_4', 'user_type_5', 'user_type_6',\n",
    "       'user_type_7', 'user_type_8', 'user_type_9', 'user_type_10',\n",
    "       'user_type_11', 'user_type_12', 'user_type_13', 'user_type_14',\n",
    "       'user_type_15', 'user_group_0', 'user_group_1', 'account_type_0',\n",
    "       'account_type_1', 'account_type_2', 'account_type_3',\n",
    "       'account_type_4', 'account_type_5', 'account_type_6',\n",
    "       'referrer_type_0', 'referrer_type_1', 'referrer_type_2',\n",
    "       'referrer_type_3', 'referrer_type_4', 'referrer_type_5',\n",
    "       'referrer_type_6', 'user_register_from_0', 'user_register_from_1',\n",
    "       'user_register_from_2', 'user_register_from_3',\n",
    "       'user_register_from_4', 'user_register_from_5',\n",
    "       'user_register_from_6', 'user_register_from_7',\n",
    "       'checkout_month_April', 'checkout_month_June',\n",
    "       'checkout_month_March', 'checkout_month_May', 'checkout_day_Fri',\n",
    "       'checkout_day_Mon', 'checkout_day_Sat', 'checkout_day_Sun',\n",
    "       'checkout_day_Thu', 'checkout_day_Tue', 'checkout_day_Wed',\n",
    "       'checkout_week_0', 'checkout_week_1', 'checkout_week_2',\n",
    "       'checkout_week_3', 'checkout_week_4', 'checkout_week_5',\n",
    "       'checkout_week_6', 'voucher_type_0', 'voucher_type_1',\n",
    "       'voucher_valid_0', 'voucher_valid_1', 'Trx_is_voucher_0',\n",
    "       'Trx_is_voucher_1', 'User_purchased_prior_0',\n",
    "       'User_purchased_prior_1', 'Is_new_0', 'Is_new_1']\n",
    "data_final = data_final[cols]"
   ]
  },
  {
   "cell_type": "markdown",
   "id": "c354bc16-3e9b-44f0-b686-72493dbbe106",
   "metadata": {},
   "source": [
    "## Over-sampling using SMOTE"
   ]
  },
  {
   "cell_type": "code",
   "execution_count": 60,
   "id": "0af9d2b0-6966-4457-bff2-67e0931af02e",
   "metadata": {},
   "outputs": [],
   "source": [
    "X = data_final.loc[:, data_final.columns != 'purchase']\n",
    "y = data_final.loc[:, data_final.columns == 'purchase']"
   ]
  },
  {
   "cell_type": "code",
   "execution_count": 61,
   "id": "89245bf2-209d-4549-80e1-cbb1b94273a1",
   "metadata": {},
   "outputs": [
    {
     "name": "stdout",
     "output_type": "stream",
     "text": [
      "length of oversampled data is  311568\n",
      "Number of no purchase in oversampled data 155784\n",
      "Number of purchase in oversampled data 155784\n",
      "Proportion of no purchase data in oversampled data is  0.5\n",
      "Proportion of purchase data in oversampled data is  0.5\n"
     ]
    }
   ],
   "source": [
    "from imblearn.over_sampling import SMOTE\n",
    "\n",
    "os = SMOTE()\n",
    "X_train, X_test, y_train, y_test = train_test_split(X, y, test_size=0.3, random_state=0)\n",
    "columns = X_train.columns\n",
    "\n",
    "os_data_X,os_data_y=os.fit_resample(X_train, y_train)\n",
    "# we can Check the numbers of our data\n",
    "print(\"length of oversampled data is \",len(os_data_X))\n",
    "print(\"Number of no purchase in oversampled data\",len(os_data_y[os_data_y['purchase']==0]))\n",
    "print(\"Number of purchase in oversampled data\",len(os_data_y[os_data_y['purchase']==1]))\n",
    "print(\"Proportion of no purchase data in oversampled data is \",len(os_data_y[os_data_y['purchase']==0])/len(os_data_X))\n",
    "print(\"Proportion of purchase data in oversampled data is \",len(os_data_y[os_data_y['purchase']==1])/len(os_data_X))"
   ]
  },
  {
   "cell_type": "markdown",
   "id": "93276dcf-f110-4a0c-b671-48a52af72f3a",
   "metadata": {},
   "source": [
    "## Recursive feature elimination"
   ]
  },
  {
   "cell_type": "code",
   "execution_count": 86,
   "id": "cea125c6-6a2d-4951-ae14-41316c39d99b",
   "metadata": {},
   "outputs": [],
   "source": [
    "data_final_vars=data_final.columns.values.tolist()\n",
    "y=['purchase']\n",
    "X=[i for i in data_final_vars if i not in y]"
   ]
  },
  {
   "cell_type": "code",
   "execution_count": 87,
   "id": "3a892e5f-0cd2-40b5-bb98-aa7b769b8b6c",
   "metadata": {},
   "outputs": [
    {
     "name": "stdout",
     "output_type": "stream",
     "text": [
      "['user_id', 'user_tenure', 'basket_amount', 'is_paid', 'is_remitted', 'checkout_date', 'voucher_max_amount', 'voucher_percentage', 'Voucher_min_purchase', 'Voucher_amount', 'Num_product_types', 'Num_trx', 'Num_voucher_errors', 'Num_trx_voucher', 'Num_visit_promo_page', 'Average_session_length', 'Sessions', 'Gmv', 'Aov', 'province_0', 'province_1', 'province_2', 'province_3', 'province_4', 'province_Others', 'user_type_0', 'user_type_1', 'user_type_2', 'user_type_3', 'user_type_4', 'user_type_5', 'user_type_6', 'user_type_7', 'user_type_8', 'user_type_9', 'user_type_10', 'user_type_11', 'user_type_12', 'user_type_13', 'user_type_14', 'user_type_15', 'user_group_0', 'user_group_1', 'account_type_0', 'account_type_1', 'account_type_2', 'account_type_3', 'account_type_4', 'account_type_5', 'account_type_6', 'referrer_type_0', 'referrer_type_1', 'referrer_type_2', 'referrer_type_3', 'referrer_type_4', 'referrer_type_5', 'referrer_type_6', 'user_register_from_0', 'user_register_from_1', 'user_register_from_2', 'user_register_from_3', 'user_register_from_4', 'user_register_from_5', 'user_register_from_6', 'user_register_from_7', 'checkout_month_April', 'checkout_month_June', 'checkout_month_March', 'checkout_month_May', 'checkout_day_Fri', 'checkout_day_Mon', 'checkout_day_Sat', 'checkout_day_Sun', 'checkout_day_Thu', 'checkout_day_Tue', 'checkout_day_Wed', 'checkout_week_0', 'checkout_week_1', 'checkout_week_2', 'checkout_week_3', 'checkout_week_4', 'checkout_week_5', 'checkout_week_6', 'voucher_type_0', 'voucher_type_1', 'voucher_valid_0', 'voucher_valid_1', 'Trx_is_voucher_0', 'Trx_is_voucher_1', 'User_purchased_prior_0', 'User_purchased_prior_1', 'Is_new_0', 'Is_new_1']\n"
     ]
    }
   ],
   "source": [
    "print(X)"
   ]
  },
  {
   "cell_type": "code",
   "execution_count": 79,
   "id": "ac29a63b-8976-4c34-912a-dd671c9d9603",
   "metadata": {},
   "outputs": [
    {
     "name": "stderr",
     "output_type": "stream",
     "text": [
      "C:\\Users\\ati.indrawati\\Anaconda3\\lib\\site-packages\\sklearn\\utils\\validation.py:70: FutureWarning: Pass n_features_to_select=20 as keyword args. From version 1.0 (renaming of 0.25) passing these as positional arguments will result in an error\n",
      "  warnings.warn(f\"Pass {args_msg} as keyword args. From version \"\n"
     ]
    },
    {
     "name": "stdout",
     "output_type": "stream",
     "text": [
      "[ True  True False  True  True  True False  True False False False False\n",
      "  True False False False False False False False False False False False\n",
      "  True  True False False False False False False False False False False\n",
      " False False False False False False  True False False False False False\n",
      " False False  True False False False False False False False False False\n",
      " False False False False False False  True False  True  True False False\n",
      " False False False False False False False False False  True False False\n",
      " False False  True  True  True  True  True False False]\n",
      "[ 1  1 62  1  1  1 60  1 70 50 46 67  1 53 45 64 40 58 49 31  4 19 23 24\n",
      "  1  1 26 35 32 36 33 43 41 42 52 59 54 61 65 74 71  2  1 34 51 66 47 68\n",
      " 69 73  1 15 20 27 38 56 48 25 21 37 39 57 63 55 72 22  1 30  1  1  7 12\n",
      " 10  5 16 14  9  8 17 13  6  1 11 28  3 29  1  1  1  1  1 44 18]\n"
     ]
    }
   ],
   "source": [
    "from sklearn.feature_selection import RFE\n",
    "from sklearn.linear_model import LogisticRegression\n",
    "logreg = LogisticRegression()\n",
    "rfe = RFE(logreg, 20)\n",
    "rfe = rfe.fit(os_data_X, os_data_y.values.ravel())\n",
    "print(rfe.support_)\n",
    "print(rfe.ranking_)"
   ]
  },
  {
   "cell_type": "code",
   "execution_count": 124,
   "id": "23a37752-61c7-4e7b-97a9-5983ef6178ee",
   "metadata": {},
   "outputs": [],
   "source": [
    "#cols=['user_tenure','checkout_date','voucher_percentage','Num_voucher_errors','province_Others','user_type_0','user_group_1','referrer_type_0','checkout_month_June','checkout_month_May','checkout_day_Fri','checkout_week_5']\n",
    "#X=os_data_X[cols]\n",
    "#y=os_data_y['purchase']"
   ]
  },
  {
   "cell_type": "code",
   "execution_count": 151,
   "id": "e31ade24-2627-4a39-8a46-e8d073f16577",
   "metadata": {},
   "outputs": [],
   "source": [
    "cols=['user_tenure','checkout_date','Voucher_amount', 'Num_product_types', 'Num_trx', 'Num_voucher_errors', 'Num_trx_voucher', 'Num_visit_promo_page', 'Average_session_length', 'Gmv','province_0', 'province_1', 'province_2', 'province_3', 'province_4', 'province_Others', 'user_type_0', 'user_type_1', 'user_type_2', 'user_type_3', 'user_type_4', 'user_type_7', 'user_type_8', 'user_type_11', 'account_type_1','account_type_3','user_register_from_1', 'user_register_from_2', 'user_register_from_3', 'user_register_from_6','checkout_month_April', 'checkout_month_June', 'checkout_month_March', 'checkout_month_May','User_purchased_prior_0', 'User_purchased_prior_1', 'Is_new_0', 'Is_new_1']\n",
    "X=os_data_X[cols]\n",
    "y=os_data_y['purchase']"
   ]
  },
  {
   "cell_type": "code",
   "execution_count": 152,
   "id": "296be482-e843-4767-ae00-13ef11e8d001",
   "metadata": {},
   "outputs": [
    {
     "name": "stdout",
     "output_type": "stream",
     "text": [
      "Optimization terminated successfully.\n",
      "         Current function value: 0.209487\n",
      "         Iterations 12\n",
      "                                Results: Logit\n",
      "==============================================================================\n",
      "Model:                  Logit                Pseudo R-squared:     0.698      \n",
      "Dependent Variable:     purchase             AIC:                  130614.9761\n",
      "Date:                   2021-08-15 23:49     BIC:                  131019.6523\n",
      "No. Observations:       311568               Log-Likelihood:       -65269.    \n",
      "Df Model:               37                   LL-Null:              -2.1596e+05\n",
      "Df Residuals:           311530               LLR p-value:          0.0000     \n",
      "Converged:              1.0000               Scale:                1.0000     \n",
      "No. Iterations:         12.0000                                               \n",
      "------------------------------------------------------------------------------\n",
      "                         Coef.   Std.Err.     z     P>|z|    [0.025    0.975] \n",
      "------------------------------------------------------------------------------\n",
      "user_tenure              -0.0414   0.0007  -56.1564 0.0000   -0.0428   -0.0400\n",
      "checkout_date             0.0274   0.0010   27.4223 0.0000    0.0255    0.0294\n",
      "Voucher_amount           14.5435   0.5195   27.9939 0.0000   13.5252   15.5617\n",
      "Num_product_types         1.4562   0.0974   14.9552 0.0000    1.2653    1.6470\n",
      "Num_trx                 466.9950  20.8912   22.3537 0.0000  426.0491  507.9410\n",
      "Num_voucher_errors       -0.0341   0.0019  -17.9018 0.0000   -0.0378   -0.0304\n",
      "Num_trx_voucher          17.4664   0.7541   23.1616 0.0000   15.9884   18.9444\n",
      "Num_visit_promo_page     -5.6599   0.2067  -27.3876 0.0000   -6.0650   -5.2549\n",
      "Average_session_length    7.0641   0.9226    7.6568 0.0000    5.2559    8.8724\n",
      "Gmv                    -284.8720   2.7612 -103.1706 0.0000 -290.2838 -279.4602\n",
      "province_0                4.6895   0.0472   99.4325 0.0000    4.5971    4.7820\n",
      "province_1                4.4989   0.0424  106.2286 0.0000    4.4159    4.5819\n",
      "province_2                5.5485   0.0520  106.6321 0.0000    5.4465    5.6505\n",
      "province_3                5.1721   0.0475  108.8569 0.0000    5.0790    5.2653\n",
      "province_4                4.9767   0.0494  100.7364 0.0000    4.8799    5.0736\n",
      "province_Others           5.2814   0.0470  112.3510 0.0000    5.1893    5.3735\n",
      "user_type_0               1.3083   0.0266   49.2377 0.0000    1.2562    1.3604\n",
      "user_type_1               1.0799   0.0340   31.7652 0.0000    1.0133    1.1466\n",
      "user_type_2               1.0551   0.0477   22.1288 0.0000    0.9616    1.1485\n",
      "user_type_3               0.9323   0.0488   19.1136 0.0000    0.8367    1.0279\n",
      "user_type_4               1.5318   0.0666   22.9932 0.0000    1.4012    1.6624\n",
      "user_type_7               3.3641   0.1800   18.6926 0.0000    3.0114    3.7168\n",
      "user_type_8               1.3017   0.0789   16.4938 0.0000    1.1470    1.4564\n",
      "user_type_11              4.0935   1.0111    4.0485 0.0001    2.1117    6.0752\n",
      "account_type_1            9.1094   0.6896   13.2103 0.0000    7.7578   10.4609\n",
      "account_type_3           -6.0308   0.3081  -19.5720 0.0000   -6.6348   -5.4269\n",
      "user_register_from_1      0.6626   0.0195   34.0365 0.0000    0.6245    0.7008\n",
      "user_register_from_2      0.6099   0.0376   16.2021 0.0000    0.5361    0.6837\n",
      "user_register_from_3      0.9909   0.0705   14.0572 0.0000    0.8527    1.1291\n",
      "user_register_from_6      2.4557   0.4750    5.1699 0.0000    1.5247    3.3867\n",
      "checkout_month_April      4.4776   0.0394  113.5542 0.0000    4.4003    4.5549\n",
      "checkout_month_June       6.0502   0.0425  142.3547 0.0000    5.9669    6.1335\n",
      "checkout_month_March      2.6893   0.0453   59.3153 0.0000    2.6005    2.7782\n",
      "checkout_month_May        5.7520   0.0409  140.6126 0.0000    5.6719    5.8322\n",
      "User_purchased_prior_0    3.9794   0.0470   84.7242 0.0000    3.8873    4.0715\n",
      "User_purchased_prior_1    3.3591   0.0453   74.1584 0.0000    3.2704    3.4479\n",
      "Is_new_0                 -0.4433   0.0607   -7.3027 0.0000   -0.5622   -0.3243\n",
      "Is_new_1                 -0.8926   0.0638  -13.9896 0.0000   -1.0177   -0.7675\n",
      "==============================================================================\n",
      "\n"
     ]
    }
   ],
   "source": [
    "import statsmodels.api as sm\n",
    "logit_model=sm.Logit(y,X)\n",
    "result=logit_model.fit()\n",
    "print(result.summary2())"
   ]
  },
  {
   "cell_type": "markdown",
   "id": "677945b8-7753-4cfa-a56a-bd19dc00a43f",
   "metadata": {},
   "source": [
    "## Logistic Regression Model Fitting"
   ]
  },
  {
   "cell_type": "code",
   "execution_count": 153,
   "id": "9a66eda6-fc6f-4dd6-a333-029208f3e501",
   "metadata": {},
   "outputs": [
    {
     "name": "stderr",
     "output_type": "stream",
     "text": [
      "C:\\Users\\ati.indrawati\\Anaconda3\\lib\\site-packages\\sklearn\\linear_model\\_logistic.py:763: ConvergenceWarning: lbfgs failed to converge (status=1):\n",
      "STOP: TOTAL NO. of ITERATIONS REACHED LIMIT.\n",
      "\n",
      "Increase the number of iterations (max_iter) or scale the data as shown in:\n",
      "    https://scikit-learn.org/stable/modules/preprocessing.html\n",
      "Please also refer to the documentation for alternative solver options:\n",
      "    https://scikit-learn.org/stable/modules/linear_model.html#logistic-regression\n",
      "  n_iter_i = _check_optimize_result(\n"
     ]
    },
    {
     "data": {
      "text/plain": [
       "LogisticRegression()"
      ]
     },
     "execution_count": 153,
     "metadata": {},
     "output_type": "execute_result"
    }
   ],
   "source": [
    "from sklearn.linear_model import LogisticRegression\n",
    "from sklearn import metrics\n",
    "X_train, X_test, y_train, y_test = train_test_split(X, y, test_size=0.3, random_state=0)\n",
    "logreg = LogisticRegression()\n",
    "logreg.fit(X_train, y_train)"
   ]
  },
  {
   "cell_type": "code",
   "execution_count": 154,
   "id": "39043adc-b4b3-4c93-9131-de6798e66c67",
   "metadata": {},
   "outputs": [
    {
     "name": "stdout",
     "output_type": "stream",
     "text": [
      "Accuracy of logistic regression classifier on test set: 0.92\n"
     ]
    }
   ],
   "source": [
    "y_pred = logreg.predict(X_test)\n",
    "print('Accuracy of logistic regression classifier on test set: {:.2f}'.format(logreg.score(X_test, y_test)))"
   ]
  },
  {
   "cell_type": "markdown",
   "id": "3b730cf3-8338-47d5-8966-08d2ce3a1184",
   "metadata": {},
   "source": [
    "## Confusion Matrix"
   ]
  },
  {
   "cell_type": "code",
   "execution_count": 146,
   "id": "6290020d-ca14-4898-b68e-a83a2186b280",
   "metadata": {},
   "outputs": [
    {
     "name": "stdout",
     "output_type": "stream",
     "text": [
      "[[40866  5760]\n",
      " [ 1664 45181]]\n"
     ]
    }
   ],
   "source": [
    "from sklearn.metrics import confusion_matrix\n",
    "confusion_matrix = confusion_matrix(y_test, y_pred)\n",
    "print(confusion_matrix)"
   ]
  },
  {
   "cell_type": "code",
   "execution_count": 148,
   "id": "78ae2b2e-76b2-4828-ad88-dab3ed9b01a8",
   "metadata": {},
   "outputs": [
    {
     "name": "stdout",
     "output_type": "stream",
     "text": [
      "              precision    recall  f1-score   support\n",
      "\n",
      "           0       0.96      0.88      0.92     46626\n",
      "           1       0.89      0.96      0.92     46845\n",
      "\n",
      "    accuracy                           0.92     93471\n",
      "   macro avg       0.92      0.92      0.92     93471\n",
      "weighted avg       0.92      0.92      0.92     93471\n",
      "\n"
     ]
    }
   ],
   "source": [
    "from sklearn.metrics import classification_report\n",
    "print(classification_report(y_test, y_pred))"
   ]
  },
  {
   "cell_type": "code",
   "execution_count": 132,
   "id": "573b38c8-e6a6-469e-9265-3d4b581c83bf",
   "metadata": {
    "jupyter": {
     "source_hidden": true
    },
    "tags": []
   },
   "outputs": [
    {
     "data": {
      "image/png": "[encoded data removed]",
      "text/plain": [
       "<Figure size 432x288 with 1 Axes>"
      ]
     },
     "metadata": {},
     "output_type": "display_data"
    }
   ],
   "source": [
    "from sklearn.metrics import roc_auc_score\n",
    "from sklearn.metrics import roc_curve\n",
    "logit_roc_auc = roc_auc_score(y_test, logreg.predict(X_test))\n",
    "fpr, tpr, thresholds = roc_curve(y_test, logreg.predict_proba(X_test)[:,1])\n",
    "plt.figure()\n",
    "plt.plot(fpr, tpr, label='Logistic Regression (area = %0.2f)' % logit_roc_auc)\n",
    "plt.plot([0, 1], [0, 1],'r--')\n",
    "plt.xlim([0.0, 1.0])\n",
    "plt.ylim([0.0, 1.05])\n",
    "plt.xlabel('False Positive Rate')\n",
    "plt.ylabel('True Positive Rate')\n",
    "plt.title('Receiver operating characteristic')\n",
    "plt.legend(loc=\"lower right\")\n",
    "plt.savefig('Log_ROC')\n",
    "plt.show()"
   ]
  },
  {
   "cell_type": "markdown",
   "id": "1c32bf6d-55a5-444c-900f-08655b8cc730",
   "metadata": {},
   "source": [
    "## Target & Features Engineering (for y='basket_amount' )"
   ]
  },
  {
   "cell_type": "code",
   "execution_count": 186,
   "id": "a6ab8b21-cf09-4d7b-b72e-e1b05ba3b7d1",
   "metadata": {},
   "outputs": [
    {
     "data": {
      "text/html": [
       "<div>\n",
       "<style scoped>\n",
       "    .dataframe tbody tr th:only-of-type {\n",
       "        vertical-align: middle;\n",
       "    }\n",
       "\n",
       "    .dataframe tbody tr th {\n",
       "        vertical-align: top;\n",
       "    }\n",
       "\n",
       "    .dataframe thead th {\n",
       "        text-align: right;\n",
       "    }\n",
       "</style>\n",
       "<table border=\"1\" class=\"dataframe\">\n",
       "  <thead>\n",
       "    <tr style=\"text-align: right;\">\n",
       "      <th></th>\n",
       "      <th>user_id</th>\n",
       "      <th>marketing_tier</th>\n",
       "      <th>province</th>\n",
       "      <th>user_type</th>\n",
       "      <th>user_group</th>\n",
       "      <th>account_type</th>\n",
       "      <th>user_tenure</th>\n",
       "      <th>referrer_type</th>\n",
       "      <th>user_register_from</th>\n",
       "      <th>basket_amount</th>\n",
       "      <th>...</th>\n",
       "      <th>Is_new</th>\n",
       "      <th>Num_product_types</th>\n",
       "      <th>Num_trx</th>\n",
       "      <th>Num_voucher_errors</th>\n",
       "      <th>Num_trx_voucher</th>\n",
       "      <th>Num_visit_promo_page</th>\n",
       "      <th>Average_session_length</th>\n",
       "      <th>Sessions</th>\n",
       "      <th>Gmv</th>\n",
       "      <th>Aov</th>\n",
       "    </tr>\n",
       "  </thead>\n",
       "  <tbody>\n",
       "    <tr>\n",
       "      <th>0</th>\n",
       "      <td>110</td>\n",
       "      <td>tier_1</td>\n",
       "      <td>1</td>\n",
       "      <td>3</td>\n",
       "      <td>0</td>\n",
       "      <td>0</td>\n",
       "      <td>199</td>\n",
       "      <td>0</td>\n",
       "      <td>2</td>\n",
       "      <td>0.000021</td>\n",
       "      <td>...</td>\n",
       "      <td>0</td>\n",
       "      <td>0.129032</td>\n",
       "      <td>0.000027</td>\n",
       "      <td>0</td>\n",
       "      <td>0.002309</td>\n",
       "      <td>0.013514</td>\n",
       "      <td>0.040124</td>\n",
       "      <td>0.002350</td>\n",
       "      <td>0.033274</td>\n",
       "      <td>0.155961</td>\n",
       "    </tr>\n",
       "    <tr>\n",
       "      <th>1</th>\n",
       "      <td>4148</td>\n",
       "      <td>tier_3</td>\n",
       "      <td>9</td>\n",
       "      <td>4</td>\n",
       "      <td>0</td>\n",
       "      <td>0</td>\n",
       "      <td>196</td>\n",
       "      <td>0</td>\n",
       "      <td>0</td>\n",
       "      <td>0.000032</td>\n",
       "      <td>...</td>\n",
       "      <td>1</td>\n",
       "      <td>0.387097</td>\n",
       "      <td>0.000074</td>\n",
       "      <td>0</td>\n",
       "      <td>0.011547</td>\n",
       "      <td>0.020270</td>\n",
       "      <td>0.008720</td>\n",
       "      <td>0.010484</td>\n",
       "      <td>0.033349</td>\n",
       "      <td>0.156039</td>\n",
       "    </tr>\n",
       "    <tr>\n",
       "      <th>2</th>\n",
       "      <td>27610</td>\n",
       "      <td>tier_2</td>\n",
       "      <td>1</td>\n",
       "      <td>2</td>\n",
       "      <td>0</td>\n",
       "      <td>0</td>\n",
       "      <td>186</td>\n",
       "      <td>0</td>\n",
       "      <td>0</td>\n",
       "      <td>0.000017</td>\n",
       "      <td>...</td>\n",
       "      <td>0</td>\n",
       "      <td>0.161290</td>\n",
       "      <td>0.000047</td>\n",
       "      <td>0</td>\n",
       "      <td>0.030023</td>\n",
       "      <td>0.006757</td>\n",
       "      <td>0.007715</td>\n",
       "      <td>0.006508</td>\n",
       "      <td>0.033291</td>\n",
       "      <td>0.155926</td>\n",
       "    </tr>\n",
       "    <tr>\n",
       "      <th>3</th>\n",
       "      <td>50037</td>\n",
       "      <td>tier_3</td>\n",
       "      <td>1</td>\n",
       "      <td>3</td>\n",
       "      <td>0</td>\n",
       "      <td>0</td>\n",
       "      <td>181</td>\n",
       "      <td>0</td>\n",
       "      <td>1</td>\n",
       "      <td>0.000024</td>\n",
       "      <td>...</td>\n",
       "      <td>1</td>\n",
       "      <td>0.193548</td>\n",
       "      <td>0.000043</td>\n",
       "      <td>0</td>\n",
       "      <td>0.000000</td>\n",
       "      <td>0.000000</td>\n",
       "      <td>0.011174</td>\n",
       "      <td>0.007050</td>\n",
       "      <td>0.033254</td>\n",
       "      <td>0.155703</td>\n",
       "    </tr>\n",
       "    <tr>\n",
       "      <th>4</th>\n",
       "      <td>62283</td>\n",
       "      <td>tier_2</td>\n",
       "      <td>0</td>\n",
       "      <td>0</td>\n",
       "      <td>0</td>\n",
       "      <td>0</td>\n",
       "      <td>177</td>\n",
       "      <td>0</td>\n",
       "      <td>0</td>\n",
       "      <td>0.000070</td>\n",
       "      <td>...</td>\n",
       "      <td>0</td>\n",
       "      <td>0.258065</td>\n",
       "      <td>0.000497</td>\n",
       "      <td>1</td>\n",
       "      <td>0.055427</td>\n",
       "      <td>0.000000</td>\n",
       "      <td>0.002376</td>\n",
       "      <td>0.038322</td>\n",
       "      <td>0.033385</td>\n",
       "      <td>0.155703</td>\n",
       "    </tr>\n",
       "  </tbody>\n",
       "</table>\n",
       "<p>5 rows × 38 columns</p>\n",
       "</div>"
      ],
      "text/plain": [
       "   user_id marketing_tier  province  user_type  user_group  account_type  \\\n",
       "0      110         tier_1         1          3           0             0   \n",
       "1     4148         tier_3         9          4           0             0   \n",
       "2    27610         tier_2         1          2           0             0   \n",
       "3    50037         tier_3         1          3           0             0   \n",
       "4    62283         tier_2         0          0           0             0   \n",
       "\n",
       "   user_tenure  referrer_type  user_register_from  basket_amount  ...  Is_new  \\\n",
       "0          199              0                   2       0.000021  ...       0   \n",
       "1          196              0                   0       0.000032  ...       1   \n",
       "2          186              0                   0       0.000017  ...       0   \n",
       "3          181              0                   1       0.000024  ...       1   \n",
       "4          177              0                   0       0.000070  ...       0   \n",
       "\n",
       "   Num_product_types   Num_trx Num_voucher_errors Num_trx_voucher  \\\n",
       "0           0.129032  0.000027                  0        0.002309   \n",
       "1           0.387097  0.000074                  0        0.011547   \n",
       "2           0.161290  0.000047                  0        0.030023   \n",
       "3           0.193548  0.000043                  0        0.000000   \n",
       "4           0.258065  0.000497                  1        0.055427   \n",
       "\n",
       "  Num_visit_promo_page  Average_session_length  Sessions       Gmv       Aov  \n",
       "0             0.013514                0.040124  0.002350  0.033274  0.155961  \n",
       "1             0.020270                0.008720  0.010484  0.033349  0.156039  \n",
       "2             0.006757                0.007715  0.006508  0.033291  0.155926  \n",
       "3             0.000000                0.011174  0.007050  0.033254  0.155703  \n",
       "4             0.000000                0.002376  0.038322  0.033385  0.155703  \n",
       "\n",
       "[5 rows x 38 columns]"
      ]
     },
     "execution_count": 186,
     "metadata": {},
     "output_type": "execute_result"
    }
   ],
   "source": [
    "df = pd.read_csv(\"insight-test-2.csv\")\n",
    "df.head()"
   ]
  },
  {
   "cell_type": "code",
   "execution_count": 195,
   "id": "6476b523-c03c-4c2f-b723-6b57ee676401",
   "metadata": {},
   "outputs": [],
   "source": [
    "cols=['user_id', 'province', 'user_type', 'user_group', 'account_type', 'user_tenure', 'referrer_type', 'user_register_from','checkout_date', 'checkout_week', 'voucher_type', 'voucher_valid', 'voucher_max_amount', 'voucher_percentage', 'Voucher_min_purchase', 'Voucher_amount', 'Trx_is_voucher', 'User_purchased_prior', 'Is_new', 'Num_product_types', 'Num_trx', 'Num_voucher_errors', 'Num_trx_voucher', 'Num_visit_promo_page', 'Average_session_length', 'Sessions', 'Gmv', 'Aov']\n",
    "X=df[cols]\n",
    "y=df['basket_amount']"
   ]
  },
  {
   "cell_type": "code",
   "execution_count": 196,
   "id": "928cc50a-185d-4dd9-a1fd-8c353a29a177",
   "metadata": {},
   "outputs": [],
   "source": [
    "from sklearn.linear_model import RidgeCV,LassoCV,LinearRegression\n",
    "from sklearn.model_selection import cross_val_score"
   ]
  },
  {
   "cell_type": "code",
   "execution_count": 197,
   "id": "5e2360ca-3597-4e9c-be55-cfec698128a0",
   "metadata": {},
   "outputs": [],
   "source": [
    "def rsme_cv(model):\n",
    "    return np.sqrt(-cross_val_score(model,X,y,scoring='neg_mean_squared_error',cv=5))"
   ]
  },
  {
   "cell_type": "code",
   "execution_count": 198,
   "id": "de9d07c0-cbb7-41b9-9459-e49031932271",
   "metadata": {},
   "outputs": [
    {
     "data": {
      "text/plain": [
       "0.0022727043010507255"
      ]
     },
     "execution_count": 198,
     "metadata": {},
     "output_type": "execute_result"
    }
   ],
   "source": [
    "#Model1: Linear Regression\n",
    "model_lr=LinearRegression()\n",
    "rsme_cv(model_lr).mean()"
   ]
  },
  {
   "cell_type": "code",
   "execution_count": 202,
   "id": "c56a2eed-573f-4022-be36-6716b85db698",
   "metadata": {},
   "outputs": [
    {
     "data": {
      "text/plain": [
       "0.0024542358002277334"
      ]
     },
     "execution_count": 202,
     "metadata": {},
     "output_type": "execute_result"
    }
   ],
   "source": [
    "#Model 2: Lasso Regression\n",
    "model_lasso=LassoCV(alphas=[1,0.1,0.01,0.0005])\n",
    "rsme_cv(model_lasso).mean()"
   ]
  },
  {
   "cell_type": "markdown",
   "id": "7e648320-29d2-4e52-b04b-7d739a95bdd6",
   "metadata": {},
   "source": [
    "Linear Regression has the lower RSME"
   ]
  },
  {
   "cell_type": "markdown",
   "id": "599f6348-7546-4162-a126-59026893f1c1",
   "metadata": {},
   "source": [
    "## Check Feature Importance"
   ]
  },
  {
   "cell_type": "code",
   "execution_count": 203,
   "id": "21cd4b06-ce76-4821-8599-64cbd05682d4",
   "metadata": {},
   "outputs": [],
   "source": [
    "coef=pd.Series(model_ridge.fit(X,y).coef_,index=X.columns)\n",
    "imp_coef=pd.concat([coef.sort_values().head(10),coef.sort_values().tail(10)])"
   ]
  },
  {
   "cell_type": "code",
   "execution_count": 204,
   "id": "7c887c89-c30d-4f77-afd6-fa3489cf0b88",
   "metadata": {},
   "outputs": [
    {
     "data": {
      "text/plain": [
       "<AxesSubplot:>"
      ]
     },
     "execution_count": 204,
     "metadata": {},
     "output_type": "execute_result"
    },
    {
     "data": {
      "image/png": "[encoded data removed]",
      "text/plain": [
       "<Figure size 432x288 with 1 Axes>"
      ]
     },
     "metadata": {},
     "output_type": "display_data"
    }
   ],
   "source": [
    "imp_coef.plot(kind='barh')"
   ]
  },
  {
   "cell_type": "code",
   "execution_count": null,
   "id": "51be2b65-dc19-45e0-8c0f-ab75b3b51c9b",
   "metadata": {},
   "outputs": [],
   "source": []
  }
 ],
 "metadata": {
  "kernelspec": {
   "display_name": "Python 3",
   "language": "python",
   "name": "python3"
  },
  "language_info": {
   "codemirror_mode": {
    "name": "ipython",
    "version": 3
   },
   "file_extension": ".py",
   "mimetype": "text/x-python",
   "name": "python",
   "nbconvert_exporter": "python",
   "pygments_lexer": "ipython3",
   "version": "3.8.8"
  }
 },
 "nbformat": 4,
 "nbformat_minor": 5
}
